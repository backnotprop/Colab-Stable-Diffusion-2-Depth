{
  "nbformat": 4,
  "nbformat_minor": 0,
  "metadata": {
    "colab": {
      "provenance": [],
      "machine_shape": "hm",
      "authorship_tag": "ABX9TyMm0kD+JAec85AtWDqrcl6K",
      "include_colab_link": true
    },
    "kernelspec": {
      "name": "python3",
      "display_name": "Python 3"
    },
    "language_info": {
      "name": "python"
    },
    "accelerator": "GPU",
    "gpuClass": "standard"
  },
  "cells": [
    {
      "cell_type": "markdown",
      "metadata": {
        "id": "view-in-github",
        "colab_type": "text"
      },
      "source": [
        "<a href=\"https://colab.research.google.com/github/backnotprop/Colab-Stable-Diffusion-2-Depth-UI/blob/main/%5BColab_Gradio%5D_stable_diffusion_2_depth.ipynb\" target=\"_parent\"><img src=\"https://colab.research.google.com/assets/colab-badge.svg\" alt=\"Open In Colab\"/></a>"
      ]
    },
    {
      "cell_type": "markdown",
      "source": [
        "# Simple Stable Diffusion V2 Demo for the depth conditioning model (Depth2Img)\n",
        "\n",
        "https://huggingface.co/stabilityai/stable-diffusion-2-depth\n",
        "\n",
        "This stable-diffusion-2-depth model is resumed from stable-diffusion-2-base (512-base-ema.ckpt) and finetuned for 200k steps. Added an extra input channel to process the (relative) depth prediction produced by MiDaS (dpt_hybrid) which is used as an additional conditioning.\n",
        "\n",
        "Notebook originally created by  [Ramos - backnotprop github]()\n",
        "\n",
        "\n",
        "#### Note \n",
        "This notebook uses Gradio's `share` feature to serve the UI via a public URL, through a tunnel over HTTPs. To add security, this notebook forces you to set a `user/password` combo to access the UI "
      ],
      "metadata": {
        "id": "mJ0O7AYjHnkt"
      }
    },
    {
      "cell_type": "markdown",
      "source": [
        "### Required Setup\n",
        "\n"
      ],
      "metadata": {
        "id": "_4ovcvKrHhf_"
      }
    },
    {
      "cell_type": "code",
      "source": [
        "import os\n",
        "import time\n",
        "from IPython.utils import capture\n",
        "from IPython.display import clear_output\n",
        "from subprocess import getoutput\n",
        "from re import search\n",
        "\n",
        "Use_xformers = True #@param {type:\"boolean\"}\n",
        "\n",
        "if Use_xformers:\n",
        "  with capture.capture_output() as cap:\n",
        "\n",
        "    smi_out = getoutput('nvidia-smi')\n",
        "    supported = search('(T4|P100|V100|A100|K80)', smi_out)\n",
        "\n",
        "    if not supported:\n",
        "      while True:\n",
        "        print(\"\\x1b[1;31mThe current GPU is not supported, try starting a new session.\\x1b[0m\")\n",
        "        time.sleep(5)\n",
        "    else:\n",
        "      supported = supported.group(0)\n",
        "\n",
        "    !pip install -q https://github.com/TheLastBen/fast-stable-diffusion/raw/main/precompiled/{supported}/xformers-0.0.13.dev0-py3-none-any.whl\n",
        "\n",
        "  clear_output()"
      ],
      "metadata": {
        "id": "o78zee3eneua"
      },
      "execution_count": null,
      "outputs": []
    },
    {
      "cell_type": "code",
      "execution_count": null,
      "metadata": {
        "id": "l8xdED6hlpyv"
      },
      "outputs": [],
      "source": [
        "with capture.capture_output() as cap:\n",
        "  !git clone --depth=1 https://github.com/Stability-AI/stablediffusion\n",
        "  %cd /content/stablediffusion/\n",
        "  !rm -rf /content/stablediffusion/.git/\n",
        "\n",
        "clear_output()"
      ]
    },
    {
      "cell_type": "code",
      "source": [
        "with capture.capture_output() as cap:\n",
        "  !pip install -r requirements.txt\n",
        "  !pip install transformers==4.19.2 diffusers invisible-watermark pytorch-lightning==1.8.3.post0 timm\n",
        "  !pip install -e .\n",
        "  \n",
        "clear_output()"
      ],
      "metadata": {
        "id": "IDOzI1vGmYNk"
      },
      "execution_count": null,
      "outputs": []
    },
    {
      "cell_type": "markdown",
      "source": [
        "### Download models (512-depth, and midas)"
      ],
      "metadata": {
        "id": "BlFP8v3fJ7rw"
      }
    },
    {
      "cell_type": "code",
      "source": [
        "%cd /content/stablediffusion/\n",
        "\n",
        "!wget https://github.com/intel-isl/DPT/releases/download/1_0/dpt_hybrid-midas-501f0c75.pt\n",
        "!wget https://huggingface.co/stabilityai/stable-diffusion-2-depth/resolve/main/512-depth-ema.ckpt\n",
        "\n",
        "!mkdir midas_models\n",
        "\n",
        "!mv dpt_hybrid-midas-501f0c75.pt midas_models/\n",
        "\n",
        "\n",
        "clear_output()"
      ],
      "metadata": {
        "id": "FMpJgilmpHIU"
      },
      "execution_count": null,
      "outputs": []
    },
    {
      "cell_type": "markdown",
      "source": [
        "## Run with private gradio session\n",
        "\n",
        "script likely wont start right away, and you will see standard `Setting up MemoryEfficientCrossAttention` output, and possible model downloads. \n",
        "\n"
      ],
      "metadata": {
        "id": "vMmddm6lJ2x8"
      }
    },
    {
      "cell_type": "code",
      "source": [
        "import fileinput\n",
        "import sys\n",
        "\n",
        "ui_username = \"\" #@param {type:\"string\"}\n",
        "ui_password = \"\" #@param {type:\"string\"}\n",
        "\n",
        "if ui_username == \"\" or ui_password == \"\":\n",
        "  print(\"you must input a temporary username and password\")\n",
        "\n",
        "else:\n",
        "  for line in fileinput.input('/content/stablediffusion/scripts/gradio/depth2img.py', inplace=True):\n",
        "    if line.strip().startswith('block.launch()'):\n",
        "        line = f'block.launch(share=True,auth=(\"{ui_username}\", \"{ui_password}\"))\\n'      \n",
        "    sys.stdout.write(line)\n",
        "\n",
        "  !python scripts/gradio/depth2img.py configs/stable-diffusion/v2-midas-inference.yaml /content/stablediffusion/512-depth-ema.ckpt\n"
      ],
      "metadata": {
        "cellView": "form",
        "id": "LHGrCO95LAl-"
      },
      "execution_count": null,
      "outputs": []
    }
  ]
}